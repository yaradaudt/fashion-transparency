{
 "cells": [
  {
   "cell_type": "markdown",
   "id": "f4ae0cde-f197-4d50-a2a2-39d124029e4e",
   "metadata": {},
   "source": [
    "# Data Analysis - Fashion Transparency Index 2025 \n",
    "### Data from: Wikirate.org, 'Fashion Transparency Index 2025' by Fashion Revolution, licensed under CC BY 4.0\n"
   ]
  },
  {
   "cell_type": "markdown",
   "id": "fd2e08fd-b383-4b41-9388-d11179717812",
   "metadata": {},
   "source": [
    "## Libraries and Imports: "
   ]
  },
  {
   "cell_type": "code",
   "execution_count": 1,
   "id": "da2b5bd2-6d6b-4e88-839f-f3f535d3b1e0",
   "metadata": {},
   "outputs": [],
   "source": [
    "import pandas as pd"
   ]
  },
  {
   "cell_type": "markdown",
   "id": "273bb1fc-c68c-4957-8166-c3fcbbd9e1e6",
   "metadata": {},
   "source": [
    "## Data Collection and Loading: "
   ]
  },
  {
   "cell_type": "code",
   "execution_count": 2,
   "id": "839fadeb-0c7c-4e15-988b-486fec6ed404",
   "metadata": {},
   "outputs": [],
   "source": [
    "# The first 4 lines are comments on the dataset, so skiprows accesses the actual data that start after these comments\n",
    "df = pd.read_csv(\"../Wikirate-2025_10_21_153411-Fashion_Transparency_Index_2025+Answer.csv\", skiprows=4)"
   ]
  },
  {
   "cell_type": "markdown",
   "id": "83070147-2be6-44a8-a59c-06efa4570d50",
   "metadata": {},
   "source": [
    "## Raw Exploratory Data Analysis (EDA):"
   ]
  },
  {
   "cell_type": "code",
   "execution_count": 3,
   "id": "dcdf1c29-fb4c-4e71-a3c2-97d809a70499",
   "metadata": {},
   "outputs": [
    {
     "name": "stdout",
     "output_type": "stream",
     "text": [
      "(200, 6)\n"
     ]
    }
   ],
   "source": [
    "print(df.shape)"
   ]
  },
  {
   "cell_type": "code",
   "execution_count": 4,
   "id": "a4822564-e327-4e2e-bbab-e559027b63fb",
   "metadata": {},
   "outputs": [
    {
     "name": "stdout",
     "output_type": "stream",
     "text": [
      "<class 'pandas.core.frame.DataFrame'>\n",
      "RangeIndex: 200 entries, 0 to 199\n",
      "Data columns (total 6 columns):\n",
      " #   Column       Non-Null Count  Dtype  \n",
      "---  ------       --------------  -----  \n",
      " 0   Answer Page  200 non-null    object \n",
      " 1   Metric       200 non-null    object \n",
      " 2   Company      200 non-null    object \n",
      " 3   Year         200 non-null    int64  \n",
      " 4   Value        200 non-null    float64\n",
      " 5   Source Page  0 non-null      float64\n",
      "dtypes: float64(2), int64(1), object(3)\n",
      "memory usage: 9.5+ KB\n"
     ]
    }
   ],
   "source": [
    "df.info()"
   ]
  },
  {
   "cell_type": "code",
   "execution_count": 5,
   "id": "2404dc32-a230-47eb-b621-3e013508e25b",
   "metadata": {},
   "outputs": [
    {
     "data": {
      "text/html": [
       "<div>\n",
       "<style scoped>\n",
       "    .dataframe tbody tr th:only-of-type {\n",
       "        vertical-align: middle;\n",
       "    }\n",
       "\n",
       "    .dataframe tbody tr th {\n",
       "        vertical-align: top;\n",
       "    }\n",
       "\n",
       "    .dataframe thead th {\n",
       "        text-align: right;\n",
       "    }\n",
       "</style>\n",
       "<table border=\"1\" class=\"dataframe\">\n",
       "  <thead>\n",
       "    <tr style=\"text-align: right;\">\n",
       "      <th></th>\n",
       "      <th>Answer Page</th>\n",
       "      <th>Metric</th>\n",
       "      <th>Company</th>\n",
       "      <th>Year</th>\n",
       "      <th>Value</th>\n",
       "      <th>Source Page</th>\n",
       "    </tr>\n",
       "  </thead>\n",
       "  <tbody>\n",
       "    <tr>\n",
       "      <th>0</th>\n",
       "      <td>https://wikirate.org/Fashion_Revolution+Fashio...</td>\n",
       "      <td>Fashion Revolution+Fashion Transparency Index ...</td>\n",
       "      <td>Primark</td>\n",
       "      <td>2025</td>\n",
       "      <td>1.499927</td>\n",
       "      <td>NaN</td>\n",
       "    </tr>\n",
       "    <tr>\n",
       "      <th>1</th>\n",
       "      <td>https://wikirate.org/Fashion_Revolution+Fashio...</td>\n",
       "      <td>Fashion Revolution+Fashion Transparency Index ...</td>\n",
       "      <td>Gap inc.</td>\n",
       "      <td>2025</td>\n",
       "      <td>2.300026</td>\n",
       "      <td>NaN</td>\n",
       "    </tr>\n",
       "    <tr>\n",
       "      <th>2</th>\n",
       "      <td>https://wikirate.org/Fashion_Revolution+Fashio...</td>\n",
       "      <td>Fashion Revolution+Fashion Transparency Index ...</td>\n",
       "      <td>Levi Strauss &amp; Co.</td>\n",
       "      <td>2025</td>\n",
       "      <td>2.633291</td>\n",
       "      <td>NaN</td>\n",
       "    </tr>\n",
       "    <tr>\n",
       "      <th>3</th>\n",
       "      <td>https://wikirate.org/Fashion_Revolution+Fashio...</td>\n",
       "      <td>Fashion Revolution+Fashion Transparency Index ...</td>\n",
       "      <td>H&amp;M</td>\n",
       "      <td>2025</td>\n",
       "      <td>7.116664</td>\n",
       "      <td>NaN</td>\n",
       "    </tr>\n",
       "    <tr>\n",
       "      <th>4</th>\n",
       "      <td>https://wikirate.org/Fashion_Revolution+Fashio...</td>\n",
       "      <td>Fashion Revolution+Fashion Transparency Index ...</td>\n",
       "      <td>Nike Inc.</td>\n",
       "      <td>2025</td>\n",
       "      <td>2.733265</td>\n",
       "      <td>NaN</td>\n",
       "    </tr>\n",
       "  </tbody>\n",
       "</table>\n",
       "</div>"
      ],
      "text/plain": [
       "                                         Answer Page  \\\n",
       "0  https://wikirate.org/Fashion_Revolution+Fashio...   \n",
       "1  https://wikirate.org/Fashion_Revolution+Fashio...   \n",
       "2  https://wikirate.org/Fashion_Revolution+Fashio...   \n",
       "3  https://wikirate.org/Fashion_Revolution+Fashio...   \n",
       "4  https://wikirate.org/Fashion_Revolution+Fashio...   \n",
       "\n",
       "                                              Metric             Company  \\\n",
       "0  Fashion Revolution+Fashion Transparency Index ...             Primark   \n",
       "1  Fashion Revolution+Fashion Transparency Index ...            Gap inc.   \n",
       "2  Fashion Revolution+Fashion Transparency Index ...  Levi Strauss & Co.   \n",
       "3  Fashion Revolution+Fashion Transparency Index ...                 H&M   \n",
       "4  Fashion Revolution+Fashion Transparency Index ...           Nike Inc.   \n",
       "\n",
       "   Year     Value  Source Page  \n",
       "0  2025  1.499927          NaN  \n",
       "1  2025  2.300026          NaN  \n",
       "2  2025  2.633291          NaN  \n",
       "3  2025  7.116664          NaN  \n",
       "4  2025  2.733265          NaN  "
      ]
     },
     "execution_count": 5,
     "metadata": {},
     "output_type": "execute_result"
    }
   ],
   "source": [
    "df.head()"
   ]
  },
  {
   "cell_type": "markdown",
   "id": "736d7d2e-748d-459c-8f12-2373f9c31547",
   "metadata": {},
   "source": [
    "## Data Preprocessing"
   ]
  },
  {
   "cell_type": "code",
   "execution_count": 6,
   "id": "0df0fb6a-7384-4952-bcef-819fdc0f5e87",
   "metadata": {},
   "outputs": [
    {
     "data": {
      "text/html": [
       "<div>\n",
       "<style scoped>\n",
       "    .dataframe tbody tr th:only-of-type {\n",
       "        vertical-align: middle;\n",
       "    }\n",
       "\n",
       "    .dataframe tbody tr th {\n",
       "        vertical-align: top;\n",
       "    }\n",
       "\n",
       "    .dataframe thead th {\n",
       "        text-align: right;\n",
       "    }\n",
       "</style>\n",
       "<table border=\"1\" class=\"dataframe\">\n",
       "  <thead>\n",
       "    <tr style=\"text-align: right;\">\n",
       "      <th></th>\n",
       "      <th>Company</th>\n",
       "      <th>Transparency_Score</th>\n",
       "    </tr>\n",
       "  </thead>\n",
       "  <tbody>\n",
       "    <tr>\n",
       "      <th>0</th>\n",
       "      <td>Primark</td>\n",
       "      <td>1.499927</td>\n",
       "    </tr>\n",
       "    <tr>\n",
       "      <th>1</th>\n",
       "      <td>Gap inc.</td>\n",
       "      <td>2.300026</td>\n",
       "    </tr>\n",
       "    <tr>\n",
       "      <th>2</th>\n",
       "      <td>Levi Strauss &amp; Co.</td>\n",
       "      <td>2.633291</td>\n",
       "    </tr>\n",
       "    <tr>\n",
       "      <th>3</th>\n",
       "      <td>H&amp;M</td>\n",
       "      <td>7.116664</td>\n",
       "    </tr>\n",
       "    <tr>\n",
       "      <th>4</th>\n",
       "      <td>Nike Inc.</td>\n",
       "      <td>2.733265</td>\n",
       "    </tr>\n",
       "  </tbody>\n",
       "</table>\n",
       "</div>"
      ],
      "text/plain": [
       "              Company  Transparency_Score\n",
       "0             Primark            1.499927\n",
       "1            Gap inc.            2.300026\n",
       "2  Levi Strauss & Co.            2.633291\n",
       "3                 H&M            7.116664\n",
       "4           Nike Inc.            2.733265"
      ]
     },
     "execution_count": 6,
     "metadata": {},
     "output_type": "execute_result"
    }
   ],
   "source": [
    "df = df.drop(columns=['Answer Page', 'Metric', 'Year', 'Source Page'])\n",
    "df = df.rename(columns={\"Value\": \"Transparency_Score\"})\n",
    "df.head()"
   ]
  },
  {
   "cell_type": "code",
   "execution_count": 7,
   "id": "09e0e10a-1db8-44d2-b51e-1dd0ea814fd3",
   "metadata": {},
   "outputs": [
    {
     "data": {
      "text/html": [
       "<div>\n",
       "<style scoped>\n",
       "    .dataframe tbody tr th:only-of-type {\n",
       "        vertical-align: middle;\n",
       "    }\n",
       "\n",
       "    .dataframe tbody tr th {\n",
       "        vertical-align: top;\n",
       "    }\n",
       "\n",
       "    .dataframe thead th {\n",
       "        text-align: right;\n",
       "    }\n",
       "</style>\n",
       "<table border=\"1\" class=\"dataframe\">\n",
       "  <thead>\n",
       "    <tr style=\"text-align: right;\">\n",
       "      <th></th>\n",
       "      <th>Transparency_Score</th>\n",
       "    </tr>\n",
       "  </thead>\n",
       "  <tbody>\n",
       "    <tr>\n",
       "      <th>count</th>\n",
       "      <td>200.000000</td>\n",
       "    </tr>\n",
       "    <tr>\n",
       "      <th>mean</th>\n",
       "      <td>1.399742</td>\n",
       "    </tr>\n",
       "    <tr>\n",
       "      <th>std</th>\n",
       "      <td>1.371766</td>\n",
       "    </tr>\n",
       "    <tr>\n",
       "      <th>min</th>\n",
       "      <td>0.000000</td>\n",
       "    </tr>\n",
       "    <tr>\n",
       "      <th>25%</th>\n",
       "      <td>0.349954</td>\n",
       "    </tr>\n",
       "    <tr>\n",
       "      <th>50%</th>\n",
       "      <td>1.116560</td>\n",
       "    </tr>\n",
       "    <tr>\n",
       "      <th>75%</th>\n",
       "      <td>2.066514</td>\n",
       "    </tr>\n",
       "    <tr>\n",
       "      <th>max</th>\n",
       "      <td>7.116664</td>\n",
       "    </tr>\n",
       "  </tbody>\n",
       "</table>\n",
       "</div>"
      ],
      "text/plain": [
       "       Transparency_Score\n",
       "count          200.000000\n",
       "mean             1.399742\n",
       "std              1.371766\n",
       "min              0.000000\n",
       "25%              0.349954\n",
       "50%              1.116560\n",
       "75%              2.066514\n",
       "max              7.116664"
      ]
     },
     "execution_count": 7,
     "metadata": {},
     "output_type": "execute_result"
    }
   ],
   "source": [
    "df.describe()"
   ]
  },
  {
   "cell_type": "code",
   "execution_count": 8,
   "id": "1cae81c5-39f1-45ba-83aa-d35f0cbafd93",
   "metadata": {},
   "outputs": [
    {
     "data": {
      "text/html": [
       "<div>\n",
       "<style scoped>\n",
       "    .dataframe tbody tr th:only-of-type {\n",
       "        vertical-align: middle;\n",
       "    }\n",
       "\n",
       "    .dataframe tbody tr th {\n",
       "        vertical-align: top;\n",
       "    }\n",
       "\n",
       "    .dataframe thead th {\n",
       "        text-align: right;\n",
       "    }\n",
       "</style>\n",
       "<table border=\"1\" class=\"dataframe\">\n",
       "  <thead>\n",
       "    <tr style=\"text-align: right;\">\n",
       "      <th></th>\n",
       "      <th>Company</th>\n",
       "      <th>Transparency_Score</th>\n",
       "    </tr>\n",
       "  </thead>\n",
       "  <tbody>\n",
       "    <tr>\n",
       "      <th>3</th>\n",
       "      <td>H&amp;M</td>\n",
       "      <td>7.116664</td>\n",
       "    </tr>\n",
       "    <tr>\n",
       "      <th>134</th>\n",
       "      <td>Calzedonia</td>\n",
       "      <td>6.250535</td>\n",
       "    </tr>\n",
       "    <tr>\n",
       "      <th>144</th>\n",
       "      <td>Intimissimi S.p.A</td>\n",
       "      <td>6.250535</td>\n",
       "    </tr>\n",
       "    <tr>\n",
       "      <th>157</th>\n",
       "      <td>Tezenis</td>\n",
       "      <td>6.250535</td>\n",
       "    </tr>\n",
       "    <tr>\n",
       "      <th>17</th>\n",
       "      <td>Puma</td>\n",
       "      <td>5.066524</td>\n",
       "    </tr>\n",
       "    <tr>\n",
       "      <th>155</th>\n",
       "      <td>OVS SpA</td>\n",
       "      <td>4.933321</td>\n",
       "    </tr>\n",
       "    <tr>\n",
       "      <th>16</th>\n",
       "      <td>Gucci</td>\n",
       "      <td>4.666782</td>\n",
       "    </tr>\n",
       "    <tr>\n",
       "      <th>43</th>\n",
       "      <td>Gildan Activewear Inc.</td>\n",
       "      <td>4.633400</td>\n",
       "    </tr>\n",
       "    <tr>\n",
       "      <th>66</th>\n",
       "      <td>lululemon athletica</td>\n",
       "      <td>3.933430</td>\n",
       "    </tr>\n",
       "    <tr>\n",
       "      <th>46</th>\n",
       "      <td>Asics Corporation</td>\n",
       "      <td>3.766937</td>\n",
       "    </tr>\n",
       "  </tbody>\n",
       "</table>\n",
       "</div>"
      ],
      "text/plain": [
       "                    Company  Transparency_Score\n",
       "3                       H&M            7.116664\n",
       "134              Calzedonia            6.250535\n",
       "144       Intimissimi S.p.A            6.250535\n",
       "157                 Tezenis            6.250535\n",
       "17                     Puma            5.066524\n",
       "155                 OVS SpA            4.933321\n",
       "16                    Gucci            4.666782\n",
       "43   Gildan Activewear Inc.            4.633400\n",
       "66      lululemon athletica            3.933430\n",
       "46        Asics Corporation            3.766937"
      ]
     },
     "execution_count": 8,
     "metadata": {},
     "output_type": "execute_result"
    }
   ],
   "source": [
    "df.sort_values(\"Transparency_Score\", ascending=False).head(10)"
   ]
  },
  {
   "cell_type": "code",
   "execution_count": 9,
   "id": "c6d7d3fd-51bc-429f-bcdd-3c88169b2a1d",
   "metadata": {},
   "outputs": [
    {
     "data": {
      "text/html": [
       "<div>\n",
       "<style scoped>\n",
       "    .dataframe tbody tr th:only-of-type {\n",
       "        vertical-align: middle;\n",
       "    }\n",
       "\n",
       "    .dataframe tbody tr th {\n",
       "        vertical-align: top;\n",
       "    }\n",
       "\n",
       "    .dataframe thead th {\n",
       "        text-align: right;\n",
       "    }\n",
       "</style>\n",
       "<table border=\"1\" class=\"dataframe\">\n",
       "  <thead>\n",
       "    <tr style=\"text-align: right;\">\n",
       "      <th></th>\n",
       "      <th>Company</th>\n",
       "      <th>Transparency_Score</th>\n",
       "    </tr>\n",
       "  </thead>\n",
       "  <tbody>\n",
       "    <tr>\n",
       "      <th>99</th>\n",
       "      <td>LC Waikiki</td>\n",
       "      <td>0.0</td>\n",
       "    </tr>\n",
       "    <tr>\n",
       "      <th>53</th>\n",
       "      <td>Urban Outfitters</td>\n",
       "      <td>0.0</td>\n",
       "    </tr>\n",
       "    <tr>\n",
       "      <th>124</th>\n",
       "      <td>Eddie Bauer</td>\n",
       "      <td>0.0</td>\n",
       "    </tr>\n",
       "    <tr>\n",
       "      <th>123</th>\n",
       "      <td>Bosideng International Holdings Limited</td>\n",
       "      <td>0.0</td>\n",
       "    </tr>\n",
       "    <tr>\n",
       "      <th>111</th>\n",
       "      <td>Semir</td>\n",
       "      <td>0.0</td>\n",
       "    </tr>\n",
       "    <tr>\n",
       "      <th>110</th>\n",
       "      <td>LL Bean</td>\n",
       "      <td>0.0</td>\n",
       "    </tr>\n",
       "    <tr>\n",
       "      <th>108</th>\n",
       "      <td>Ted Baker</td>\n",
       "      <td>0.0</td>\n",
       "    </tr>\n",
       "    <tr>\n",
       "      <th>29</th>\n",
       "      <td>Belle International Holdings</td>\n",
       "      <td>0.0</td>\n",
       "    </tr>\n",
       "    <tr>\n",
       "      <th>107</th>\n",
       "      <td>Hudson's Bay Company</td>\n",
       "      <td>0.0</td>\n",
       "    </tr>\n",
       "    <tr>\n",
       "      <th>106</th>\n",
       "      <td>Forever 21</td>\n",
       "      <td>0.0</td>\n",
       "    </tr>\n",
       "  </tbody>\n",
       "</table>\n",
       "</div>"
      ],
      "text/plain": [
       "                                     Company  Transparency_Score\n",
       "99                                LC Waikiki                 0.0\n",
       "53                          Urban Outfitters                 0.0\n",
       "124                              Eddie Bauer                 0.0\n",
       "123  Bosideng International Holdings Limited                 0.0\n",
       "111                                    Semir                 0.0\n",
       "110                                  LL Bean                 0.0\n",
       "108                                Ted Baker                 0.0\n",
       "29              Belle International Holdings                 0.0\n",
       "107                     Hudson's Bay Company                 0.0\n",
       "106                               Forever 21                 0.0"
      ]
     },
     "execution_count": 9,
     "metadata": {},
     "output_type": "execute_result"
    }
   ],
   "source": [
    "df.sort_values(\"Transparency_Score\", ascending=True).head(10)"
   ]
  },
  {
   "cell_type": "code",
   "execution_count": 10,
   "id": "1cadea26-f709-4a90-8f5c-788649132cc4",
   "metadata": {},
   "outputs": [
    {
     "data": {
      "image/png": "[encoded data removed]",
      "text/plain": [
       "<Figure size 1000x600 with 1 Axes>"
      ]
     },
     "metadata": {},
     "output_type": "display_data"
    }
   ],
   "source": [
    "import matplotlib.pyplot as plt\n",
    "\n",
    "top10 = df.sort_values(\"Transparency_Score\", ascending=False).head(10)\n",
    "plt.figure(figsize=(10,6))\n",
    "plt.barh(top10[\"Company\"], top10[\"Transparency_Score\"])\n",
    "plt.gca().invert_yaxis()\n",
    "plt.title(\"Top 10 empresas mais transparentes (2025)\")\n",
    "plt.xlabel(\"Índice de transparência\")\n",
    "plt.show()"
   ]
  },
  {
   "cell_type": "markdown",
   "id": "3d08a8ad-dac9-438a-be5f-d8aa0dea4f48",
   "metadata": {},
   "source": [
    "## Feature Engineering: "
   ]
  },
  {
   "cell_type": "code",
   "execution_count": 11,
   "id": "9c6e244e-f7b0-4bcd-b206-80c1cbc8fd24",
   "metadata": {},
   "outputs": [],
   "source": [
    "# Here I'm creating categories to compare how different types of products (luxury, fast fashion, etc) relate to the \n",
    "# transparency values in the dataset.\n",
    "def categorize(company):\n",
    "    company_name = str(company).lower().strip()\n",
    "    \n",
    "    fast_fashion = [\"h&m\", \"zara\", \"primark\", \"c&a\", \"forever 21\", \"shein\", \"asos\", \"mango\", \"bershka\", \"pull & bear\", \"stradivarius\", \"prettylittlething\", \"matalan\", \"river island\", \"boohoo.com\", \"massimo dutti\", \"vero moda\", \"jack & jones\", \"urban outfitters\", \"anthropologie\", \"free people\", \"semir\", \"lc waikiki\", \"gap inc\", ]\n",
    "    luxury = [\"louis vuitton\", \"gucci\", \"valentino\", \"burberry\", \"hermes\", \"christian dior\", \"prada\", \"miu miu\", \"moncler\", \"giorgio armani\", \"fendi\", \"chanel\", \"salvatore ferragamo\", \"diesel\", \"celine\", \"dolce & gabbana\", \"versace\", \"saint laurent\", \"bottega veneta\", \"balenciaga\", \"chloe\", \"capri holdings\", \"bosideng international holdings limited\"]\n",
    "    sports_wear = [\"nike\", \"adidas\", \"puma\", \"converse\", \"timberland\", \"the north face\", \"new balance\", \"under armour\", \"asics\", \"columbia sportswear\", \"lululemon\", \"brooks sports\", \"mizuno\", \"fila\", \"reebok\", \"jordan\", \"champion\", \"vans\", \"decathlon\", \"jd sports\", \"skechers\", \"famous footwear\", \"belle international holdings\"]\n",
    "    \n",
    "    if any(x in company_name for x in sports_wear):\n",
    "        return \"Sportswear\"\n",
    "    elif any(x in company_name for x in luxury):\n",
    "        return \"Luxury\"\n",
    "    elif any(x in company_name for x in fast_fashion):\n",
    "        return \"Fast Fashion\"\n",
    "    else:\n",
    "        return \"Mid-Market/Others\"\n",
    "\n",
    "df[\"Market_Segment\"] = df[\"Company\"].apply(categorize) "
   ]
  },
  {
   "cell_type": "markdown",
   "id": "e3474a35-a381-4d3d-81bc-8218d134a5c8",
   "metadata": {},
   "source": [
    "## Exploratory Data Analysis (EDA)"
   ]
  },
  {
   "cell_type": "code",
   "execution_count": 12,
   "id": "d82a36cd-1fc9-42a4-aea4-9899d74b8afa",
   "metadata": {},
   "outputs": [
    {
     "name": "stdout",
     "output_type": "stream",
     "text": [
      "Market_Segment\n",
      "Mid-Market/Others    131\n",
      "Fast Fashion          23\n",
      "Sportswear            23\n",
      "Luxury                23\n",
      "Name: count, dtype: int64\n",
      "\n",
      "Média de Score de Transparência por Segmento de Mercado:\n",
      "      Market_Segment  Transparency_Score\n",
      "0         Sportswear            1.984824\n",
      "1       Fast Fashion            1.893429\n",
      "2             Luxury            1.731784\n",
      "3  Mid-Market/Others            1.152043\n"
     ]
    }
   ],
   "source": [
    "print(df['Market_Segment'].value_counts())\n",
    "\n",
    "df_segment_scores = df.groupby('Market_Segment')['Transparency_Score'].mean().sort_values(ascending=False).reset_index()\n",
    "\n",
    "print(\"\\nMédia de Score de Transparência por Segmento de Mercado:\")\n",
    "print(df_segment_scores)"
   ]
  },
  {
   "cell_type": "code",
   "execution_count": 13,
   "id": "5bcf68ea-0660-485b-b52d-38ebd3353a84",
   "metadata": {},
   "outputs": [
    {
     "name": "stdout",
     "output_type": "stream",
     "text": [
      "      Market_Segment  Transparency_Score\n",
      "0         Sportswear                1.98\n",
      "1       Fast Fashion                1.89\n",
      "2             Luxury                1.73\n",
      "3  Mid-Market/Others                1.15\n"
     ]
    }
   ],
   "source": [
    "df_segment_scores = df.groupby('Market_Segment')['Transparency_Score'].mean().sort_values(ascending=False).reset_index()\n",
    "\n",
    "df_segment_scores['Transparency_Score'] = df_segment_scores['Transparency_Score'].round(2)\n",
    "\n",
    "print(df_segment_scores)"
   ]
  },
  {
   "cell_type": "code",
   "execution_count": 14,
   "id": "2d597f4f-c0ee-431c-8e25-71697403be77",
   "metadata": {},
   "outputs": [
    {
     "data": {
      "application/vnd.plotly.v1+json": {
       "config": {
        "plotlyServerURL": "https://plot.ly"
       },
       "data": [
        {
         "hovertemplate": "Segmento de Mercado=%{x}<br>Média do Score de Transparência (0-10)=%{y:.2f}<extra></extra>",
         "legendgroup": "Sportswear",
         "marker": {
          "color": "#0070C0",
          "pattern": {
           "shape": ""
          }
         },
         "name": "Sportswear",
         "orientation": "v",
         "showlegend": true,
         "textposition": "outside",
         "texttemplate": "%{y:.2f}",
         "type": "bar",
         "x": [
          "Sportswear"
         ],
         "xaxis": "x",
         "y": {
          "bdata": "rkfhehSu/z8=",
          "dtype": "f8"
         },
         "yaxis": "y"
        },
        {
         "hovertemplate": "Segmento de Mercado=%{x}<br>Média do Score de Transparência (0-10)=%{y:.2f}<extra></extra>",
         "legendgroup": "Fast Fashion",
         "marker": {
          "color": "#00B050",
          "pattern": {
           "shape": ""
          }
         },
         "name": "Fast Fashion",
         "orientation": "v",
         "showlegend": true,
         "textposition": "outside",
         "texttemplate": "%{y:.2f}",
         "type": "bar",
         "x": [
          "Fast Fashion"
         ],
         "xaxis": "x",
         "y": {
          "bdata": "PQrXo3A9/j8=",
          "dtype": "f8"
         },
         "yaxis": "y"
        },
        {
         "hovertemplate": "Segmento de Mercado=%{x}<br>Média do Score de Transparência (0-10)=%{y:.2f}<extra></extra>",
         "legendgroup": "Luxury",
         "marker": {
          "color": "#7030A0",
          "pattern": {
           "shape": ""
          }
         },
         "name": "Luxury",
         "orientation": "v",
         "showlegend": true,
         "textposition": "outside",
         "texttemplate": "%{y:.2f}",
         "type": "bar",
         "x": [
          "Luxury"
         ],
         "xaxis": "x",
         "y": {
          "bdata": "rkfhehSu+z8=",
          "dtype": "f8"
         },
         "yaxis": "y"
        },
        {
         "hovertemplate": "Segmento de Mercado=%{x}<br>Média do Score de Transparência (0-10)=%{y:.2f}<extra></extra>",
         "legendgroup": "Mid-Market/Others",
         "marker": {
          "color": "#FFA15A",
          "pattern": {
           "shape": ""
          }
         },
         "name": "Mid-Market/Others",
         "orientation": "v",
         "showlegend": true,
         "textposition": "outside",
         "texttemplate": "%{y:.2f}",
         "type": "bar",
         "x": [
          "Mid-Market/Others"
         ],
         "xaxis": "x",
         "y": {
          "bdata": "ZmZmZmZm8j8=",
          "dtype": "f8"
         },
         "yaxis": "y"
        }
       ],
       "layout": {
        "barmode": "relative",
        "legend": {
         "title": {
          "text": "Segmento de Mercado"
         },
         "tracegroupgap": 0
        },
        "template": {
         "data": {
          "bar": [
           {
            "error_x": {
             "color": "#2a3f5f"
            },
            "error_y": {
             "color": "#2a3f5f"
            },
            "marker": {
             "line": {
              "color": "#E5ECF6",
              "width": 0.5
             },
             "pattern": {
              "fillmode": "overlay",
              "size": 10,
              "solidity": 0.2
             }
            },
            "type": "bar"
           }
          ],
          "barpolar": [
           {
            "marker": {
             "line": {
              "color": "#E5ECF6",
              "width": 0.5
             },
             "pattern": {
              "fillmode": "overlay",
              "size": 10,
              "solidity": 0.2
             }
            },
            "type": "barpolar"
           }
          ],
          "carpet": [
           {
            "aaxis": {
             "endlinecolor": "#2a3f5f",
             "gridcolor": "white",
             "linecolor": "white",
             "minorgridcolor": "white",
             "startlinecolor": "#2a3f5f"
            },
            "baxis": {
             "endlinecolor": "#2a3f5f",
             "gridcolor": "white",
             "linecolor": "white",
             "minorgridcolor": "white",
             "startlinecolor": "#2a3f5f"
            },
            "type": "carpet"
           }
          ],
          "choropleth": [
           {
            "colorbar": {
             "outlinewidth": 0,
             "ticks": ""
            },
            "type": "choropleth"
           }
          ],
          "contour": [
           {
            "colorbar": {
             "outlinewidth": 0,
             "ticks": ""
            },
            "colorscale": [
             [
              0,
              "#0d0887"
             ],
             [
              0.1111111111111111,
              "#46039f"
             ],
             [
              0.2222222222222222,
              "#7201a8"
             ],
             [
              0.3333333333333333,
              "#9c179e"
             ],
             [
              0.4444444444444444,
              "#bd3786"
             ],
             [
              0.5555555555555556,
              "#d8576b"
             ],
             [
              0.6666666666666666,
              "#ed7953"
             ],
             [
              0.7777777777777778,
              "#fb9f3a"
             ],
             [
              0.8888888888888888,
              "#fdca26"
             ],
             [
              1,
              "#f0f921"
             ]
            ],
            "type": "contour"
           }
          ],
          "contourcarpet": [
           {
            "colorbar": {
             "outlinewidth": 0,
             "ticks": ""
            },
            "type": "contourcarpet"
           }
          ],
          "heatmap": [
           {
            "colorbar": {
             "outlinewidth": 0,
             "ticks": ""
            },
            "colorscale": [
             [
              0,
              "#0d0887"
             ],
             [
              0.1111111111111111,
              "#46039f"
             ],
             [
              0.2222222222222222,
              "#7201a8"
             ],
             [
              0.3333333333333333,
              "#9c179e"
             ],
             [
              0.4444444444444444,
              "#bd3786"
             ],
             [
              0.5555555555555556,
              "#d8576b"
             ],
             [
              0.6666666666666666,
              "#ed7953"
             ],
             [
              0.7777777777777778,
              "#fb9f3a"
             ],
             [
              0.8888888888888888,
              "#fdca26"
             ],
             [
              1,
              "#f0f921"
             ]
            ],
            "type": "heatmap"
           }
          ],
          "histogram": [
           {
            "marker": {
             "pattern": {
              "fillmode": "overlay",
              "size": 10,
              "solidity": 0.2
             }
            },
            "type": "histogram"
           }
          ],
          "histogram2d": [
           {
            "colorbar": {
             "outlinewidth": 0,
             "ticks": ""
            },
            "colorscale": [
             [
              0,
              "#0d0887"
             ],
             [
              0.1111111111111111,
              "#46039f"
             ],
             [
              0.2222222222222222,
              "#7201a8"
             ],
             [
              0.3333333333333333,
              "#9c179e"
             ],
             [
              0.4444444444444444,
              "#bd3786"
             ],
             [
              0.5555555555555556,
              "#d8576b"
             ],
             [
              0.6666666666666666,
              "#ed7953"
             ],
             [
              0.7777777777777778,
              "#fb9f3a"
             ],
             [
              0.8888888888888888,
              "#fdca26"
             ],
             [
              1,
              "#f0f921"
             ]
            ],
            "type": "histogram2d"
           }
          ],
          "histogram2dcontour": [
           {
            "colorbar": {
             "outlinewidth": 0,
             "ticks": ""
            },
            "colorscale": [
             [
              0,
              "#0d0887"
             ],
             [
              0.1111111111111111,
              "#46039f"
             ],
             [
              0.2222222222222222,
              "#7201a8"
             ],
             [
              0.3333333333333333,
              "#9c179e"
             ],
             [
              0.4444444444444444,
              "#bd3786"
             ],
             [
              0.5555555555555556,
              "#d8576b"
             ],
             [
              0.6666666666666666,
              "#ed7953"
             ],
             [
              0.7777777777777778,
              "#fb9f3a"
             ],
             [
              0.8888888888888888,
              "#fdca26"
             ],
             [
              1,
              "#f0f921"
             ]
            ],
            "type": "histogram2dcontour"
           }
          ],
          "mesh3d": [
           {
            "colorbar": {
             "outlinewidth": 0,
             "ticks": ""
            },
            "type": "mesh3d"
           }
          ],
          "parcoords": [
           {
            "line": {
             "colorbar": {
              "outlinewidth": 0,
              "ticks": ""
             }
            },
            "type": "parcoords"
           }
          ],
          "pie": [
           {
            "automargin": true,
            "type": "pie"
           }
          ],
          "scatter": [
           {
            "fillpattern": {
             "fillmode": "overlay",
             "size": 10,
             "solidity": 0.2
            },
            "type": "scatter"
           }
          ],
          "scatter3d": [
           {
            "line": {
             "colorbar": {
              "outlinewidth": 0,
              "ticks": ""
             }
            },
            "marker": {
             "colorbar": {
              "outlinewidth": 0,
              "ticks": ""
             }
            },
            "type": "scatter3d"
           }
          ],
          "scattercarpet": [
           {
            "marker": {
             "colorbar": {
              "outlinewidth": 0,
              "ticks": ""
             }
            },
            "type": "scattercarpet"
           }
          ],
          "scattergeo": [
           {
            "marker": {
             "colorbar": {
              "outlinewidth": 0,
              "ticks": ""
             }
            },
            "type": "scattergeo"
           }
          ],
          "scattergl": [
           {
            "marker": {
             "colorbar": {
              "outlinewidth": 0,
              "ticks": ""
             }
            },
            "type": "scattergl"
           }
          ],
          "scattermap": [
           {
            "marker": {
             "colorbar": {
              "outlinewidth": 0,
              "ticks": ""
             }
            },
            "type": "scattermap"
           }
          ],
          "scattermapbox": [
           {
            "marker": {
             "colorbar": {
              "outlinewidth": 0,
              "ticks": ""
             }
            },
            "type": "scattermapbox"
           }
          ],
          "scatterpolar": [
           {
            "marker": {
             "colorbar": {
              "outlinewidth": 0,
              "ticks": ""
             }
            },
            "type": "scatterpolar"
           }
          ],
          "scatterpolargl": [
           {
            "marker": {
             "colorbar": {
              "outlinewidth": 0,
              "ticks": ""
             }
            },
            "type": "scatterpolargl"
           }
          ],
          "scatterternary": [
           {
            "marker": {
             "colorbar": {
              "outlinewidth": 0,
              "ticks": ""
             }
            },
            "type": "scatterternary"
           }
          ],
          "surface": [
           {
            "colorbar": {
             "outlinewidth": 0,
             "ticks": ""
            },
            "colorscale": [
             [
              0,
              "#0d0887"
             ],
             [
              0.1111111111111111,
              "#46039f"
             ],
             [
              0.2222222222222222,
              "#7201a8"
             ],
             [
              0.3333333333333333,
              "#9c179e"
             ],
             [
              0.4444444444444444,
              "#bd3786"
             ],
             [
              0.5555555555555556,
              "#d8576b"
             ],
             [
              0.6666666666666666,
              "#ed7953"
             ],
             [
              0.7777777777777778,
              "#fb9f3a"
             ],
             [
              0.8888888888888888,
              "#fdca26"
             ],
             [
              1,
              "#f0f921"
             ]
            ],
            "type": "surface"
           }
          ],
          "table": [
           {
            "cells": {
             "fill": {
              "color": "#EBF0F8"
             },
             "line": {
              "color": "white"
             }
            },
            "header": {
             "fill": {
              "color": "#C8D4E3"
             },
             "line": {
              "color": "white"
             }
            },
            "type": "table"
           }
          ]
         },
         "layout": {
          "annotationdefaults": {
           "arrowcolor": "#2a3f5f",
           "arrowhead": 0,
           "arrowwidth": 1
          },
          "autotypenumbers": "strict",
          "coloraxis": {
           "colorbar": {
            "outlinewidth": 0,
            "ticks": ""
           }
          },
          "colorscale": {
           "diverging": [
            [
             0,
             "#8e0152"
            ],
            [
             0.1,
             "#c51b7d"
            ],
            [
             0.2,
             "#de77ae"
            ],
            [
             0.3,
             "#f1b6da"
            ],
            [
             0.4,
             "#fde0ef"
            ],
            [
             0.5,
             "#f7f7f7"
            ],
            [
             0.6,
             "#e6f5d0"
            ],
            [
             0.7,
             "#b8e186"
            ],
            [
             0.8,
             "#7fbc41"
            ],
            [
             0.9,
             "#4d9221"
            ],
            [
             1,
             "#276419"
            ]
           ],
           "sequential": [
            [
             0,
             "#0d0887"
            ],
            [
             0.1111111111111111,
             "#46039f"
            ],
            [
             0.2222222222222222,
             "#7201a8"
            ],
            [
             0.3333333333333333,
             "#9c179e"
            ],
            [
             0.4444444444444444,
             "#bd3786"
            ],
            [
             0.5555555555555556,
             "#d8576b"
            ],
            [
             0.6666666666666666,
             "#ed7953"
            ],
            [
             0.7777777777777778,
             "#fb9f3a"
            ],
            [
             0.8888888888888888,
             "#fdca26"
            ],
            [
             1,
             "#f0f921"
            ]
           ],
           "sequentialminus": [
            [
             0,
             "#0d0887"
            ],
            [
             0.1111111111111111,
             "#46039f"
            ],
            [
             0.2222222222222222,
             "#7201a8"
            ],
            [
             0.3333333333333333,
             "#9c179e"
            ],
            [
             0.4444444444444444,
             "#bd3786"
            ],
            [
             0.5555555555555556,
             "#d8576b"
            ],
            [
             0.6666666666666666,
             "#ed7953"
            ],
            [
             0.7777777777777778,
             "#fb9f3a"
            ],
            [
             0.8888888888888888,
             "#fdca26"
            ],
            [
             1,
             "#f0f921"
            ]
           ]
          },
          "colorway": [
           "#636efa",
           "#EF553B",
           "#00cc96",
           "#ab63fa",
           "#FFA15A",
           "#19d3f3",
           "#FF6692",
           "#B6E880",
           "#FF97FF",
           "#FECB52"
          ],
          "font": {
           "color": "#2a3f5f"
          },
          "geo": {
           "bgcolor": "white",
           "lakecolor": "white",
           "landcolor": "#E5ECF6",
           "showlakes": true,
           "showland": true,
           "subunitcolor": "white"
          },
          "hoverlabel": {
           "align": "left"
          },
          "hovermode": "closest",
          "mapbox": {
           "style": "light"
          },
          "paper_bgcolor": "white",
          "plot_bgcolor": "#E5ECF6",
          "polar": {
           "angularaxis": {
            "gridcolor": "white",
            "linecolor": "white",
            "ticks": ""
           },
           "bgcolor": "#E5ECF6",
           "radialaxis": {
            "gridcolor": "white",
            "linecolor": "white",
            "ticks": ""
           }
          },
          "scene": {
           "xaxis": {
            "backgroundcolor": "#E5ECF6",
            "gridcolor": "white",
            "gridwidth": 2,
            "linecolor": "white",
            "showbackground": true,
            "ticks": "",
            "zerolinecolor": "white"
           },
           "yaxis": {
            "backgroundcolor": "#E5ECF6",
            "gridcolor": "white",
            "gridwidth": 2,
            "linecolor": "white",
            "showbackground": true,
            "ticks": "",
            "zerolinecolor": "white"
           },
           "zaxis": {
            "backgroundcolor": "#E5ECF6",
            "gridcolor": "white",
            "gridwidth": 2,
            "linecolor": "white",
            "showbackground": true,
            "ticks": "",
            "zerolinecolor": "white"
           }
          },
          "shapedefaults": {
           "line": {
            "color": "#2a3f5f"
           }
          },
          "ternary": {
           "aaxis": {
            "gridcolor": "white",
            "linecolor": "white",
            "ticks": ""
           },
           "baxis": {
            "gridcolor": "white",
            "linecolor": "white",
            "ticks": ""
           },
           "bgcolor": "#E5ECF6",
           "caxis": {
            "gridcolor": "white",
            "linecolor": "white",
            "ticks": ""
           }
          },
          "title": {
           "x": 0.05
          },
          "xaxis": {
           "automargin": true,
           "gridcolor": "white",
           "linecolor": "white",
           "ticks": "",
           "title": {
            "standoff": 15
           },
           "zerolinecolor": "white",
           "zerolinewidth": 2
          },
          "yaxis": {
           "automargin": true,
           "gridcolor": "white",
           "linecolor": "white",
           "ticks": "",
           "title": {
            "standoff": 15
           },
           "zerolinecolor": "white",
           "zerolinewidth": 2
          }
         }
        },
        "title": {
         "text": "Média de Score de Transparência (2025) por Segmento de Mercado"
        },
        "uniformtext": {
         "minsize": 8,
         "mode": "hide"
        },
        "xaxis": {
         "anchor": "y",
         "categoryarray": [
          "Sportswear",
          "Fast Fashion",
          "Luxury",
          "Mid-Market/Others"
         ],
         "categoryorder": "array",
         "domain": [
          0,
          1
         ],
         "title": {}
        },
        "yaxis": {
         "anchor": "x",
         "domain": [
          0,
          1
         ],
         "range": [
          0,
          10
         ],
         "title": {
          "text": "Média do Score de Transparência (0-10)"
         }
        }
       }
      },
      "image/png": "[encoded data removed]"
     },
     "metadata": {},
     "output_type": "display_data"
    }
   ],
   "source": [
    "import plotly.express as px\n",
    "\n",
    "# Definir uma paleta de cores para os segmentos\n",
    "# É bom manter cores consistentes: Fast Fashion em destaque e Mid-Market em tom neutro/baixo\n",
    "color_map = {\n",
    "    'Fast Fashion': '#00B050',  # Verde (destaque para a \"surpresa\" da transparência)\n",
    "    'Sportswear': '#0070C0',    # Azul\n",
    "    'Luxury': '#7030A0',        # Roxo/Designer\n",
    "    'Mid-Market/Outros': '#A0A0A0' # Cinza (Baseline/Outros)\n",
    "}\n",
    "\n",
    "fig = px.bar(\n",
    "    df_segment_scores, \n",
    "    x='Market_Segment',\n",
    "    y='Transparency_Score',\n",
    "    color='Market_Segment', \n",
    "    color_discrete_map=color_map,\n",
    "    \n",
    "    # Rótulos do gráfico\n",
    "    title='Média de Score de Transparência (2025) por Segmento de Mercado',\n",
    "    labels={'Transparency_Score': 'Média do Score de Transparência (0-10)', 'Market_Segment': 'Segmento de Mercado'},\n",
    "    \n",
    "    # Personalização da Barra de Hover (dica interativa)\n",
    "    hover_data={'Transparency_Score': ':.2f'}, # Garante 2 casas decimais no hover\n",
    "    \n",
    "    # Garantir que o eixo Y comece em 0 e vá até 10 para uma comparação justa\n",
    "    range_y=[0, 10] \n",
    ")\n",
    "\n",
    "# Adicionar o valor exato no topo de cada barra\n",
    "fig.update_traces(texttemplate='%{y:.2f}', textposition='outside')\n",
    "\n",
    "# Melhorar o layout (remover legenda desnecessária, ajustar margens)\n",
    "fig.update_layout(uniformtext_minsize=8, uniformtext_mode='hide', xaxis_title=None)\n",
    "\n",
    "# Exibir o gráfico\n",
    "fig.show()"
   ]
  },
  {
   "cell_type": "code",
   "execution_count": 15,
   "id": "efa5cbfe-6d9c-4d7e-967d-db7db218085a",
   "metadata": {},
   "outputs": [
    {
     "data": {
      "application/vnd.plotly.v1+json": {
       "config": {
        "plotlyServerURL": "https://plot.ly"
       },
       "data": [
        {
         "alignmentgroup": "True",
         "boxpoints": "all",
         "hovertemplate": "Segmento de Mercado=%{x}<br>Score de Transparência (0-10)=%{y}<extra></extra>",
         "legendgroup": "Fast Fashion",
         "marker": {
          "color": "#00B050"
         },
         "name": "Fast Fashion",
         "notched": false,
         "offsetgroup": "Fast Fashion",
         "orientation": "v",
         "showlegend": true,
         "type": "box",
         "x": [
          "Fast Fashion",
          "Fast Fashion",
          "Fast Fashion",
          "Fast Fashion",
          "Fast Fashion",
          "Fast Fashion",
          "Fast Fashion",
          "Fast Fashion",
          "Fast Fashion",
          "Fast Fashion",
          "Fast Fashion",
          "Fast Fashion",
          "Fast Fashion",
          "Fast Fashion",
          "Fast Fashion",
          "Fast Fashion",
          "Fast Fashion",
          "Fast Fashion",
          "Fast Fashion",
          "Fast Fashion",
          "Fast Fashion",
          "Fast Fashion",
          "Fast Fashion"
         ],
         "x0": " ",
         "xaxis": "x",
         "y": {
          "bdata": "Wo3fJrP/9z8RYiXZdnccQLZRpf3C3QFAunFVw2S7C0AAAAAAAAAAAFTk6AXBmQlAD+9LqJbd9T/TufTBMIjwPwAAAAAAAAAA0Zb2JQWbyT8AAAAAAAAAAAAAAAAAAAAAdepAUlMR8T+6cVXDZLsLQLpxVcNkuwtAHaiTrGeICEAdqJOsZ4gIQAAAAAAAAAAAunFVw2S7C0AAAAAAAAAAAHXqQFJTEfE/unFVw2S7C0BsNU3NOsz0Pw==",
          "dtype": "f8"
         },
         "y0": " ",
         "yaxis": "y"
        },
        {
         "alignmentgroup": "True",
         "boxpoints": "all",
         "hovertemplate": "Segmento de Mercado=%{x}<br>Score de Transparência (0-10)=%{y}<extra></extra>",
         "legendgroup": "Sportswear",
         "marker": {
          "color": "#0070C0"
         },
         "name": "Sportswear",
         "notched": false,
         "offsetgroup": "Sportswear",
         "orientation": "v",
         "showlegend": true,
         "type": "box",
         "x": [
          "Sportswear",
          "Sportswear",
          "Sportswear",
          "Sportswear",
          "Sportswear",
          "Sportswear",
          "Sportswear",
          "Sportswear",
          "Sportswear",
          "Sportswear",
          "Sportswear",
          "Sportswear",
          "Sportswear",
          "Sportswear",
          "Sportswear",
          "Sportswear",
          "Sportswear",
          "Sportswear",
          "Sportswear",
          "Sportswear",
          "Sportswear",
          "Sportswear",
          "Sportswear"
         ],
         "x0": " ",
         "xaxis": "x",
         "y": {
          "bdata": "FtUw8bndBUB9RU592d0NQEmVu33TIgZAFtUw8bndBUD70wP6HkQUQEmVu33TIgZAAAAAAAAAAADO1JGcRDMHQMXP9dbgMeM/P+hSm68iDkCbsHJsDInwP7u8ElPe3t0/cRSf76l3D0BNLHJEXt31P2NDXgsKROw/RCeTtji8C0BtXE5CtCHyP0mVu33TIgZAAAAAAAAAAAA1A/oNehDhPxbVMPG53QVAIMee/l4Q0T8AAAAAAAAAAA==",
          "dtype": "f8"
         },
         "y0": " ",
         "yaxis": "y"
        },
        {
         "alignmentgroup": "True",
         "boxpoints": "all",
         "hovertemplate": "Segmento de Mercado=%{x}<br>Score de Transparência (0-10)=%{y}<extra></extra>",
         "legendgroup": "Luxury",
         "marker": {
          "color": "#7030A0"
         },
         "name": "Luxury",
         "notched": false,
         "offsetgroup": "Luxury",
         "orientation": "v",
         "showlegend": true,
         "type": "box",
         "x": [
          "Luxury",
          "Luxury",
          "Luxury",
          "Luxury",
          "Luxury",
          "Luxury",
          "Luxury",
          "Luxury",
          "Luxury",
          "Luxury",
          "Luxury",
          "Luxury",
          "Luxury",
          "Luxury",
          "Luxury",
          "Luxury",
          "Luxury",
          "Luxury",
          "Luxury",
          "Luxury",
          "Luxury",
          "Luxury",
          "Luxury"
         ],
         "x0": " ",
         "xaxis": "x",
         "y": {
          "bdata": "amfZTYpV9T94k1YZz4f4P+He4Jfwh/g/PSuD0siqEkCbLeVk2RANQHiTVhnPh/g/0Xb9eiCI+D+UaS9Y+EP0P8PISkzkuus/TY/FtzWIAEAP0JYfr1T9P0qKvjwb7u4/0Xb9eiCI+D9/0DsTwSHyP30rkCU5EfU/FWqmJWm78z8JWAWBzVQFQAlYBYHNVAVACVgFgc1UBUAkBQMdjZnpP0dCOuVlRPg/AAAAAAAAAAB4k1YZz4f4Pw==",
          "dtype": "f8"
         },
         "y0": " ",
         "yaxis": "y"
        },
        {
         "alignmentgroup": "True",
         "boxpoints": "all",
         "hovertemplate": "Segmento de Mercado=%{x}<br>Score de Transparência (0-10)=%{y}<extra></extra>",
         "legendgroup": "Mid-Market/Others",
         "marker": {
          "color": "#FFA15A"
         },
         "name": "Mid-Market/Others",
         "notched": false,
         "offsetgroup": "Mid-Market/Others",
         "orientation": "v",
         "showlegend": true,
         "type": "box",
         "x": [
          "Mid-Market/Others",
          "Mid-Market/Others",
          "Mid-Market/Others",
          "Mid-Market/Others",
          "Mid-Market/Others",
          "Mid-Market/Others",
          "Mid-Market/Others",
          "Mid-Market/Others",
          "Mid-Market/Others",
          "Mid-Market/Others",
          "Mid-Market/Others",
          "Mid-Market/Others",
          "Mid-Market/Others",
          "Mid-Market/Others",
          "Mid-Market/Others",
          "Mid-Market/Others",
          "Mid-Market/Others",
          "Mid-Market/Others",
          "Mid-Market/Others",
          "Mid-Market/Others",
          "Mid-Market/Others",
          "Mid-Market/Others",
          "Mid-Market/Others",
          "Mid-Market/Others",
          "Mid-Market/Others",
          "Mid-Market/Others",
          "Mid-Market/Others",
          "Mid-Market/Others",
          "Mid-Market/Others",
          "Mid-Market/Others",
          "Mid-Market/Others",
          "Mid-Market/Others",
          "Mid-Market/Others",
          "Mid-Market/Others",
          "Mid-Market/Others",
          "Mid-Market/Others",
          "Mid-Market/Others",
          "Mid-Market/Others",
          "Mid-Market/Others",
          "Mid-Market/Others",
          "Mid-Market/Others",
          "Mid-Market/Others",
          "Mid-Market/Others",
          "Mid-Market/Others",
          "Mid-Market/Others",
          "Mid-Market/Others",
          "Mid-Market/Others",
          "Mid-Market/Others",
          "Mid-Market/Others",
          "Mid-Market/Others",
          "Mid-Market/Others",
          "Mid-Market/Others",
          "Mid-Market/Others",
          "Mid-Market/Others",
          "Mid-Market/Others",
          "Mid-Market/Others",
          "Mid-Market/Others",
          "Mid-Market/Others",
          "Mid-Market/Others",
          "Mid-Market/Others",
          "Mid-Market/Others",
          "Mid-Market/Others",
          "Mid-Market/Others",
          "Mid-Market/Others",
          "Mid-Market/Others",
          "Mid-Market/Others",
          "Mid-Market/Others",
          "Mid-Market/Others",
          "Mid-Market/Others",
          "Mid-Market/Others",
          "Mid-Market/Others",
          "Mid-Market/Others",
          "Mid-Market/Others",
          "Mid-Market/Others",
          "Mid-Market/Others",
          "Mid-Market/Others",
          "Mid-Market/Others",
          "Mid-Market/Others",
          "Mid-Market/Others",
          "Mid-Market/Others",
          "Mid-Market/Others",
          "Mid-Market/Others",
          "Mid-Market/Others",
          "Mid-Market/Others",
          "Mid-Market/Others",
          "Mid-Market/Others",
          "Mid-Market/Others",
          "Mid-Market/Others",
          "Mid-Market/Others",
          "Mid-Market/Others",
          "Mid-Market/Others",
          "Mid-Market/Others",
          "Mid-Market/Others",
          "Mid-Market/Others",
          "Mid-Market/Others",
          "Mid-Market/Others",
          "Mid-Market/Others",
          "Mid-Market/Others",
          "Mid-Market/Others",
          "Mid-Market/Others",
          "Mid-Market/Others",
          "Mid-Market/Others",
          "Mid-Market/Others",
          "Mid-Market/Others",
          "Mid-Market/Others",
          "Mid-Market/Others",
          "Mid-Market/Others",
          "Mid-Market/Others",
          "Mid-Market/Others",
          "Mid-Market/Others",
          "Mid-Market/Others",
          "Mid-Market/Others",
          "Mid-Market/Others",
          "Mid-Market/Others",
          "Mid-Market/Others",
          "Mid-Market/Others",
          "Mid-Market/Others",
          "Mid-Market/Others",
          "Mid-Market/Others",
          "Mid-Market/Others",
          "Mid-Market/Others",
          "Mid-Market/Others",
          "Mid-Market/Others",
          "Mid-Market/Others",
          "Mid-Market/Others",
          "Mid-Market/Others",
          "Mid-Market/Others",
          "Mid-Market/Others",
          "Mid-Market/Others",
          "Mid-Market/Others",
          "Mid-Market/Others"
         ],
         "x0": " ",
         "xaxis": "x",
         "y": {
          "bdata": "xgph5XNmAkCKtRXG+hAFQMqZl9dIZgJAblen7oOZ+T9PqgdtN0T8P4jhJA1/zew/UROnU9qZ+T+oZO0+BhHxP5/a3KVdZgJAmrcoGQ8z4z+oTpjs8pn5P8qv23fRu+s/iml8uine9T9a8gAZgDPDP9GWqj/5MvM/9thwFNIy8z81owsBoe7uP219XJvNd+c/CRSpM2uZ2T+Cuenm55fZPzMLXFBHZvY/0/S0RqNVDUC9KtosR7zzP6SqQl+WvAdA3KThEZqIEkApcwq7JRHxPwAAAAAAAAAANQP6DXoQ4T9OLzwc++4GQJLtLGUQ290/oAtfUfQhBkCs65XxAUQAQAAAAAAAAAAAD2F495J3/z8e/pqsUQ+hPwNK+z02ZuY/syygc+0z6z8ex57+XhDBP3iTVhnPh/g/9tmLwa8Q+T9GoQhchmXyP5f3Mz2Gqvo/AAAAAAAAAACbklXyk2YGQAThjFZ9qfI/syygc+0z6z+KZrQ2QWb2PwAAAAAAAAAAAy0YCH6Y6T8AAAAAAAAAACrKK6jsmOk/AAAAAAAAAAAAAAAAAAAAAAP+M7i5d+c/AAAAAAAAAAADLRgIfpjpP5o2tgMNeOc/AAAAAAAAAABkqCnPqf/vPyDHnv5eENE/FhCaBDKI6D9joxdNtRH5P89a5OZFuts/RMoqMkCIAECb6ry8Is30PzKIijvyM/s/AAAAAAAAAAAAAAAAAAAAAAAAAAAAAAAANC8EW+W76z9/0DsTwSHyPzGmPXxC3O0/AAAAAAAAAAAPYXj3knf/Px7Hnv5eEME/5ps6iBBE9D/mmzqIEET0P1jyABmAM9M/j9eunTMz4z/TwR7WfyLyPwAAAAAAAAAAyqxuSYwAGUAAAAAAAAAAAHLFCxQwVf0/juTADFyqCkASbqSEXHbXP8qsbkmMABlAxgph5XNmAkDGCmHlc2YCQE4vPBz77gZAeNArjXm82z8zC1xQR2b2Pw6kvRkomfE/WnoEYri7E0DKrG5JjAAZQKSqQl+WvAdAzu652+/c7T8AAAAAAAAAAEgFIuUhEfE/AAAAAAAAAABkU6W62swAQMPkldARD8E/AAAAAAAAAAAFiB48Oqv6P807fFnNEOE/f9A7E8Eh8j8AAAAAAAAAAMgA0qSrdwFAxl3H7aOZ6T+qM5VX0ajqPwAAAAAAAAAAf9A7E8Eh8j+9KtosR7zzPwAAAAAAAAAAAAAAAAAAAADDyEpM5LrrPwAAAAAAAAAA7sija7CZ2T8AAAAAAAAAAAAAAAAAAAAAE6bNCLvf3T8AAAAAAAAAAGniN11hD8E/AAAAAAAAAAAAAAAAAAAAAMqZl9dIZgJALY5JtvHM8D8Tps0Iu9/dPzbr56j+nMk/zTt8Wc0Q4T826+eo/pzJPw==",
          "dtype": "f8"
         },
         "y0": " ",
         "yaxis": "y"
        }
       ],
       "layout": {
        "boxmode": "overlay",
        "legend": {
         "title": {
          "text": "Segmento de Mercado"
         },
         "tracegroupgap": 0
        },
        "showlegend": false,
        "template": {
         "data": {
          "bar": [
           {
            "error_x": {
             "color": "#2a3f5f"
            },
            "error_y": {
             "color": "#2a3f5f"
            },
            "marker": {
             "line": {
              "color": "#E5ECF6",
              "width": 0.5
             },
             "pattern": {
              "fillmode": "overlay",
              "size": 10,
              "solidity": 0.2
             }
            },
            "type": "bar"
           }
          ],
          "barpolar": [
           {
            "marker": {
             "line": {
              "color": "#E5ECF6",
              "width": 0.5
             },
             "pattern": {
              "fillmode": "overlay",
              "size": 10,
              "solidity": 0.2
             }
            },
            "type": "barpolar"
           }
          ],
          "carpet": [
           {
            "aaxis": {
             "endlinecolor": "#2a3f5f",
             "gridcolor": "white",
             "linecolor": "white",
             "minorgridcolor": "white",
             "startlinecolor": "#2a3f5f"
            },
            "baxis": {
             "endlinecolor": "#2a3f5f",
             "gridcolor": "white",
             "linecolor": "white",
             "minorgridcolor": "white",
             "startlinecolor": "#2a3f5f"
            },
            "type": "carpet"
           }
          ],
          "choropleth": [
           {
            "colorbar": {
             "outlinewidth": 0,
             "ticks": ""
            },
            "type": "choropleth"
           }
          ],
          "contour": [
           {
            "colorbar": {
             "outlinewidth": 0,
             "ticks": ""
            },
            "colorscale": [
             [
              0,
              "#0d0887"
             ],
             [
              0.1111111111111111,
              "#46039f"
             ],
             [
              0.2222222222222222,
              "#7201a8"
             ],
             [
              0.3333333333333333,
              "#9c179e"
             ],
             [
              0.4444444444444444,
              "#bd3786"
             ],
             [
              0.5555555555555556,
              "#d8576b"
             ],
             [
              0.6666666666666666,
              "#ed7953"
             ],
             [
              0.7777777777777778,
              "#fb9f3a"
             ],
             [
              0.8888888888888888,
              "#fdca26"
             ],
             [
              1,
              "#f0f921"
             ]
            ],
            "type": "contour"
           }
          ],
          "contourcarpet": [
           {
            "colorbar": {
             "outlinewidth": 0,
             "ticks": ""
            },
            "type": "contourcarpet"
           }
          ],
          "heatmap": [
           {
            "colorbar": {
             "outlinewidth": 0,
             "ticks": ""
            },
            "colorscale": [
             [
              0,
              "#0d0887"
             ],
             [
              0.1111111111111111,
              "#46039f"
             ],
             [
              0.2222222222222222,
              "#7201a8"
             ],
             [
              0.3333333333333333,
              "#9c179e"
             ],
             [
              0.4444444444444444,
              "#bd3786"
             ],
             [
              0.5555555555555556,
              "#d8576b"
             ],
             [
              0.6666666666666666,
              "#ed7953"
             ],
             [
              0.7777777777777778,
              "#fb9f3a"
             ],
             [
              0.8888888888888888,
              "#fdca26"
             ],
             [
              1,
              "#f0f921"
             ]
            ],
            "type": "heatmap"
           }
          ],
          "histogram": [
           {
            "marker": {
             "pattern": {
              "fillmode": "overlay",
              "size": 10,
              "solidity": 0.2
             }
            },
            "type": "histogram"
           }
          ],
          "histogram2d": [
           {
            "colorbar": {
             "outlinewidth": 0,
             "ticks": ""
            },
            "colorscale": [
             [
              0,
              "#0d0887"
             ],
             [
              0.1111111111111111,
              "#46039f"
             ],
             [
              0.2222222222222222,
              "#7201a8"
             ],
             [
              0.3333333333333333,
              "#9c179e"
             ],
             [
              0.4444444444444444,
              "#bd3786"
             ],
             [
              0.5555555555555556,
              "#d8576b"
             ],
             [
              0.6666666666666666,
              "#ed7953"
             ],
             [
              0.7777777777777778,
              "#fb9f3a"
             ],
             [
              0.8888888888888888,
              "#fdca26"
             ],
             [
              1,
              "#f0f921"
             ]
            ],
            "type": "histogram2d"
           }
          ],
          "histogram2dcontour": [
           {
            "colorbar": {
             "outlinewidth": 0,
             "ticks": ""
            },
            "colorscale": [
             [
              0,
              "#0d0887"
             ],
             [
              0.1111111111111111,
              "#46039f"
             ],
             [
              0.2222222222222222,
              "#7201a8"
             ],
             [
              0.3333333333333333,
              "#9c179e"
             ],
             [
              0.4444444444444444,
              "#bd3786"
             ],
             [
              0.5555555555555556,
              "#d8576b"
             ],
             [
              0.6666666666666666,
              "#ed7953"
             ],
             [
              0.7777777777777778,
              "#fb9f3a"
             ],
             [
              0.8888888888888888,
              "#fdca26"
             ],
             [
              1,
              "#f0f921"
             ]
            ],
            "type": "histogram2dcontour"
           }
          ],
          "mesh3d": [
           {
            "colorbar": {
             "outlinewidth": 0,
             "ticks": ""
            },
            "type": "mesh3d"
           }
          ],
          "parcoords": [
           {
            "line": {
             "colorbar": {
              "outlinewidth": 0,
              "ticks": ""
             }
            },
            "type": "parcoords"
           }
          ],
          "pie": [
           {
            "automargin": true,
            "type": "pie"
           }
          ],
          "scatter": [
           {
            "fillpattern": {
             "fillmode": "overlay",
             "size": 10,
             "solidity": 0.2
            },
            "type": "scatter"
           }
          ],
          "scatter3d": [
           {
            "line": {
             "colorbar": {
              "outlinewidth": 0,
              "ticks": ""
             }
            },
            "marker": {
             "colorbar": {
              "outlinewidth": 0,
              "ticks": ""
             }
            },
            "type": "scatter3d"
           }
          ],
          "scattercarpet": [
           {
            "marker": {
             "colorbar": {
              "outlinewidth": 0,
              "ticks": ""
             }
            },
            "type": "scattercarpet"
           }
          ],
          "scattergeo": [
           {
            "marker": {
             "colorbar": {
              "outlinewidth": 0,
              "ticks": ""
             }
            },
            "type": "scattergeo"
           }
          ],
          "scattergl": [
           {
            "marker": {
             "colorbar": {
              "outlinewidth": 0,
              "ticks": ""
             }
            },
            "type": "scattergl"
           }
          ],
          "scattermap": [
           {
            "marker": {
             "colorbar": {
              "outlinewidth": 0,
              "ticks": ""
             }
            },
            "type": "scattermap"
           }
          ],
          "scattermapbox": [
           {
            "marker": {
             "colorbar": {
              "outlinewidth": 0,
              "ticks": ""
             }
            },
            "type": "scattermapbox"
           }
          ],
          "scatterpolar": [
           {
            "marker": {
             "colorbar": {
              "outlinewidth": 0,
              "ticks": ""
             }
            },
            "type": "scatterpolar"
           }
          ],
          "scatterpolargl": [
           {
            "marker": {
             "colorbar": {
              "outlinewidth": 0,
              "ticks": ""
             }
            },
            "type": "scatterpolargl"
           }
          ],
          "scatterternary": [
           {
            "marker": {
             "colorbar": {
              "outlinewidth": 0,
              "ticks": ""
             }
            },
            "type": "scatterternary"
           }
          ],
          "surface": [
           {
            "colorbar": {
             "outlinewidth": 0,
             "ticks": ""
            },
            "colorscale": [
             [
              0,
              "#0d0887"
             ],
             [
              0.1111111111111111,
              "#46039f"
             ],
             [
              0.2222222222222222,
              "#7201a8"
             ],
             [
              0.3333333333333333,
              "#9c179e"
             ],
             [
              0.4444444444444444,
              "#bd3786"
             ],
             [
              0.5555555555555556,
              "#d8576b"
             ],
             [
              0.6666666666666666,
              "#ed7953"
             ],
             [
              0.7777777777777778,
              "#fb9f3a"
             ],
             [
              0.8888888888888888,
              "#fdca26"
             ],
             [
              1,
              "#f0f921"
             ]
            ],
            "type": "surface"
           }
          ],
          "table": [
           {
            "cells": {
             "fill": {
              "color": "#EBF0F8"
             },
             "line": {
              "color": "white"
             }
            },
            "header": {
             "fill": {
              "color": "#C8D4E3"
             },
             "line": {
              "color": "white"
             }
            },
            "type": "table"
           }
          ]
         },
         "layout": {
          "annotationdefaults": {
           "arrowcolor": "#2a3f5f",
           "arrowhead": 0,
           "arrowwidth": 1
          },
          "autotypenumbers": "strict",
          "coloraxis": {
           "colorbar": {
            "outlinewidth": 0,
            "ticks": ""
           }
          },
          "colorscale": {
           "diverging": [
            [
             0,
             "#8e0152"
            ],
            [
             0.1,
             "#c51b7d"
            ],
            [
             0.2,
             "#de77ae"
            ],
            [
             0.3,
             "#f1b6da"
            ],
            [
             0.4,
             "#fde0ef"
            ],
            [
             0.5,
             "#f7f7f7"
            ],
            [
             0.6,
             "#e6f5d0"
            ],
            [
             0.7,
             "#b8e186"
            ],
            [
             0.8,
             "#7fbc41"
            ],
            [
             0.9,
             "#4d9221"
            ],
            [
             1,
             "#276419"
            ]
           ],
           "sequential": [
            [
             0,
             "#0d0887"
            ],
            [
             0.1111111111111111,
             "#46039f"
            ],
            [
             0.2222222222222222,
             "#7201a8"
            ],
            [
             0.3333333333333333,
             "#9c179e"
            ],
            [
             0.4444444444444444,
             "#bd3786"
            ],
            [
             0.5555555555555556,
             "#d8576b"
            ],
            [
             0.6666666666666666,
             "#ed7953"
            ],
            [
             0.7777777777777778,
             "#fb9f3a"
            ],
            [
             0.8888888888888888,
             "#fdca26"
            ],
            [
             1,
             "#f0f921"
            ]
           ],
           "sequentialminus": [
            [
             0,
             "#0d0887"
            ],
            [
             0.1111111111111111,
             "#46039f"
            ],
            [
             0.2222222222222222,
             "#7201a8"
            ],
            [
             0.3333333333333333,
             "#9c179e"
            ],
            [
             0.4444444444444444,
             "#bd3786"
            ],
            [
             0.5555555555555556,
             "#d8576b"
            ],
            [
             0.6666666666666666,
             "#ed7953"
            ],
            [
             0.7777777777777778,
             "#fb9f3a"
            ],
            [
             0.8888888888888888,
             "#fdca26"
            ],
            [
             1,
             "#f0f921"
            ]
           ]
          },
          "colorway": [
           "#636efa",
           "#EF553B",
           "#00cc96",
           "#ab63fa",
           "#FFA15A",
           "#19d3f3",
           "#FF6692",
           "#B6E880",
           "#FF97FF",
           "#FECB52"
          ],
          "font": {
           "color": "#2a3f5f"
          },
          "geo": {
           "bgcolor": "white",
           "lakecolor": "white",
           "landcolor": "#E5ECF6",
           "showlakes": true,
           "showland": true,
           "subunitcolor": "white"
          },
          "hoverlabel": {
           "align": "left"
          },
          "hovermode": "closest",
          "mapbox": {
           "style": "light"
          },
          "paper_bgcolor": "white",
          "plot_bgcolor": "#E5ECF6",
          "polar": {
           "angularaxis": {
            "gridcolor": "white",
            "linecolor": "white",
            "ticks": ""
           },
           "bgcolor": "#E5ECF6",
           "radialaxis": {
            "gridcolor": "white",
            "linecolor": "white",
            "ticks": ""
           }
          },
          "scene": {
           "xaxis": {
            "backgroundcolor": "#E5ECF6",
            "gridcolor": "white",
            "gridwidth": 2,
            "linecolor": "white",
            "showbackground": true,
            "ticks": "",
            "zerolinecolor": "white"
           },
           "yaxis": {
            "backgroundcolor": "#E5ECF6",
            "gridcolor": "white",
            "gridwidth": 2,
            "linecolor": "white",
            "showbackground": true,
            "ticks": "",
            "zerolinecolor": "white"
           },
           "zaxis": {
            "backgroundcolor": "#E5ECF6",
            "gridcolor": "white",
            "gridwidth": 2,
            "linecolor": "white",
            "showbackground": true,
            "ticks": "",
            "zerolinecolor": "white"
           }
          },
          "shapedefaults": {
           "line": {
            "color": "#2a3f5f"
           }
          },
          "ternary": {
           "aaxis": {
            "gridcolor": "white",
            "linecolor": "white",
            "ticks": ""
           },
           "baxis": {
            "gridcolor": "white",
            "linecolor": "white",
            "ticks": ""
           },
           "bgcolor": "#E5ECF6",
           "caxis": {
            "gridcolor": "white",
            "linecolor": "white",
            "ticks": ""
           }
          },
          "title": {
           "x": 0.05
          },
          "xaxis": {
           "automargin": true,
           "gridcolor": "white",
           "linecolor": "white",
           "ticks": "",
           "title": {
            "standoff": 15
           },
           "zerolinecolor": "white",
           "zerolinewidth": 2
          },
          "yaxis": {
           "automargin": true,
           "gridcolor": "white",
           "linecolor": "white",
           "ticks": "",
           "title": {
            "standoff": 15
           },
           "zerolinecolor": "white",
           "zerolinewidth": 2
          }
         }
        },
        "title": {
         "text": "Distribuição do Score de Transparência (2025) por Segmento"
        },
        "xaxis": {
         "anchor": "y",
         "categoryarray": [
          "Fast Fashion",
          "Sportswear",
          "Luxury",
          "Mid-Market/Others"
         ],
         "categoryorder": "array",
         "domain": [
          0,
          1
         ],
         "title": {}
        },
        "yaxis": {
         "anchor": "x",
         "domain": [
          0,
          1
         ],
         "range": [
          -0.5,
          10.5
         ],
         "title": {
          "text": "Score de Transparência (0-10)"
         }
        }
       }
      },
      "image/png": "[encoded data removed]"
     },
     "metadata": {},
     "output_type": "display_data"
    }
   ],
   "source": [
    "import plotly.express as px\n",
    "import pandas as pd\n",
    "\n",
    "segment_order = ['Fast Fashion', 'Sportswear', 'Luxury', 'Mid-Market/Others']\n",
    "\n",
    "color_map = {\n",
    "    'Fast Fashion': '#00B050',\n",
    "    'Sportswear': '#0070C0',\n",
    "    'Luxury': '#7030A0',\n",
    "    'Mid-Market/Outros': '#A0A0A0'\n",
    "}\n",
    "\n",
    "fig = px.box(\n",
    "    df,\n",
    "    x='Market_Segment',\n",
    "    y='Transparency_Score',\n",
    "    color='Market_Segment',\n",
    "    category_orders={'Market_Segment': segment_order},\n",
    "    color_discrete_map=color_map,\n",
    "    \n",
    "    title='Distribuição do Score de Transparência (2025) por Segmento',\n",
    "    labels={'Transparency_Score': 'Score de Transparência (0-10)', 'Market_Segment': 'Segmento de Mercado'},\n",
    "    \n",
    "    range_y=[-0.5, 10.5],\n",
    "    \n",
    "    points=\"all\" \n",
    ")\n",
    "\n",
    "fig.update_layout(\n",
    "    xaxis_title=None,\n",
    "    showlegend=False\n",
    ")\n",
    "\n",
    "# 5. Exibir o gráfico\n",
    "fig.show()"
   ]
  },
  {
   "cell_type": "code",
   "execution_count": 17,
   "id": "4fac29a0-0904-4ab5-bbf6-6f45ba5da250",
   "metadata": {},
   "outputs": [
    {
     "name": "stdout",
     "output_type": "stream",
     "text": [
      "--- Ranking das 20 Piores Empresas em Transparência (2025) ---\n",
      "                                    Company     Market_Segment  \\\n",
      "0                                LC Waikiki       Fast Fashion   \n",
      "1                          Urban Outfitters       Fast Fashion   \n",
      "2                               Eddie Bauer  Mid-Market/Others   \n",
      "3   Bosideng International Holdings Limited             Luxury   \n",
      "4                                     Semir       Fast Fashion   \n",
      "5                                   LL Bean  Mid-Market/Others   \n",
      "6                                 Ted Baker  Mid-Market/Others   \n",
      "7              Belle International Holdings         Sportswear   \n",
      "8                      Hudson's Bay Company  Mid-Market/Others   \n",
      "9                                Forever 21       Fast Fashion   \n",
      "10                               Buckle Inc  Mid-Market/Others   \n",
      "11                          Chico's FAS Inc  Mid-Market/Others   \n",
      "12                              Express Inc  Mid-Market/Others   \n",
      "13                              Heilan Home  Mid-Market/Others   \n",
      "14                         Aeropostale Inc.  Mid-Market/Others   \n",
      "15              Billabong International Ltd  Mid-Market/Others   \n",
      "16                                 DSW Inc.  Mid-Market/Others   \n",
      "17                           Quiksilver Inc  Mid-Market/Others   \n",
      "18                                 Max Mara  Mid-Market/Others   \n",
      "19                Reebok International Ltd.         Sportswear   \n",
      "\n",
      "    Transparency_Score  Bottom_Rank  \n",
      "0                  0.0            1  \n",
      "1                  0.0            2  \n",
      "2                  0.0            3  \n",
      "3                  0.0            4  \n",
      "4                  0.0            5  \n",
      "5                  0.0            6  \n",
      "6                  0.0            7  \n",
      "7                  0.0            8  \n",
      "8                  0.0            9  \n",
      "9                  0.0           10  \n",
      "10                 0.0           11  \n",
      "11                 0.0           12  \n",
      "12                 0.0           13  \n",
      "13                 0.0           14  \n",
      "14                 0.0           15  \n",
      "15                 0.0           16  \n",
      "16                 0.0           17  \n",
      "17                 0.0           18  \n",
      "18                 0.0           19  \n",
      "19                 0.0           20  \n"
     ]
    }
   ],
   "source": [
    "# 1. Ordenar o DataFrame pelo score de transparência (do menor para o maior)\n",
    "df_bottom_20 = df.sort_values(by='Transparency_Score', ascending=True)\n",
    "\n",
    "# 2. Selecionar as 20 primeiras empresas (as piores)\n",
    "df_bottom_20 = df_bottom_20.head(20).reset_index(drop=True)\n",
    "\n",
    "# 3. Selecionar apenas as colunas de interesse para o ranking\n",
    "df_bottom_20 = df_bottom_20[['Company', 'Market_Segment', 'Transparency_Score']]\n",
    "\n",
    "# 4. Adicionar um \"Rank\" (do 1º pior ao 20º pior)\n",
    "df_bottom_20['Bottom_Rank'] = df_bottom_20.index + 1\n",
    "\n",
    "print(\"--- Ranking das 20 Piores Empresas em Transparência (2025) ---\")\n",
    "print(df_bottom_20)"
   ]
  },
  {
   "cell_type": "code",
   "execution_count": null,
   "id": "13c3a264-7f59-458d-920e-8e6ba0e87537",
   "metadata": {},
   "outputs": [],
   "source": []
  },
  {
   "cell_type": "code",
   "execution_count": null,
   "id": "1d70f5f4-9f94-4f74-84cb-bcd75f47c6e9",
   "metadata": {},
   "outputs": [],
   "source": []
  }
 ],
 "metadata": {
  "kernelspec": {
   "display_name": "Python 3 (ipykernel)",
   "language": "python",
   "name": "python3"
  },
  "language_info": {
   "codemirror_mode": {
    "name": "ipython",
    "version": 3
   },
   "file_extension": ".py",
   "mimetype": "text/x-python",
   "name": "python",
   "nbconvert_exporter": "python",
   "pygments_lexer": "ipython3",
   "version": "3.13.5"
  }
 },
 "nbformat": 4,
 "nbformat_minor": 5
}
